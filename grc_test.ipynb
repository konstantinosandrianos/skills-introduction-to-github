## 2. Install & Import Packages

import numpy as np
import pandas as pd
import yfinance as yf
from arch import arch_model
import matplotlib.pyplot as plt
from datetime import datetime, timedelta
